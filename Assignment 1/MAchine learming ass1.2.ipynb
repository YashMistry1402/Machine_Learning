{
 "cells": [
  {
   "cell_type": "code",
   "execution_count": 69,
   "metadata": {},
   "outputs": [],
   "source": [
    "from matplotlib import pyplot as plt\n",
    "import numpy as np\n",
    "import pandas as pd\n",
    "\n",
    "from sklearn.cluster import KMeans\n",
    "from sklearn.decomposition import PCA\n",
    "from sklearn import metrics\n",
    "from sklearn.preprocessing import StandardScaler\n"
   ]
  },
  {
   "cell_type": "code",
   "execution_count": 56,
   "metadata": {},
   "outputs": [
    {
     "name": "stdout",
     "output_type": "stream",
     "text": [
      "(1693, 65)\n"
     ]
    }
   ],
   "source": [
    "from numpy import genfromtxt\n",
    "data = pd.read_csv('digitData3.csv', delimiter=',', header=None).values\n",
    "print(data.shape)\n",
    "\n",
    "\n"
   ]
  },
  {
   "cell_type": "code",
   "execution_count": 57,
   "metadata": {
    "scrolled": true
   },
   "outputs": [],
   "source": [
    "from sklearn.preprocessing import scale\n",
    "Xnorm = scale(data)"
   ]
  },
  {
   "cell_type": "code",
   "execution_count": 58,
   "metadata": {},
   "outputs": [
    {
     "data": {
      "text/plain": [
       "PCA(copy=True, iterated_power='auto', n_components=5, random_state=None,\n",
       "  svd_solver='auto', tol=0.0, whiten=False)"
      ]
     },
     "execution_count": 58,
     "metadata": {},
     "output_type": "execute_result"
    }
   ],
   "source": [
    "\n",
    "pca = PCA(n_components=5)\n",
    "pca.fit(Xnorm)\n"
   ]
  },
  {
   "cell_type": "code",
   "execution_count": 59,
   "metadata": {
    "scrolled": true
   },
   "outputs": [
    {
     "name": "stdout",
     "output_type": "stream",
     "text": [
      "[0.11803804 0.0950794  0.08335165 0.06532014 0.04814641]\n"
     ]
    }
   ],
   "source": [
    "var= pca.explained_variance_ratio_\n",
    "print(var)"
   ]
  },
  {
   "cell_type": "code",
   "execution_count": 61,
   "metadata": {},
   "outputs": [
    {
     "name": "stdout",
     "output_type": "stream",
     "text": [
      "[11.80380422 21.31174408 29.64690895 36.17892324 40.99356407]\n"
     ]
    },
    {
     "data": {
      "text/plain": [
       "Text(0, 0.5, 'Variance captured')"
      ]
     },
     "execution_count": 61,
     "metadata": {},
     "output_type": "execute_result"
    },
    {
     "data": {
      "image/png": "[encoded data removed]",
      "text/plain": [
       "<Figure size 432x288 with 1 Axes>"
      ]
     },
     "metadata": {
      "needs_background": "light"
     },
     "output_type": "display_data"
    }
   ],
   "source": [
    "var1=np.cumsum(np.round(pca.explained_variance_ratio_, decimals=4)*100)\n",
    "print(var1)\n",
    "plt.plot(var1)\n",
    "plt.xlabel(\"Principal components\")\n",
    "plt.ylabel(\"Variance captured\")"
   ]
  },
  {
   "cell_type": "code",
   "execution_count": 64,
   "metadata": {},
   "outputs": [
    {
     "name": "stdout",
     "output_type": "stream",
     "text": [
      "(1693, 4)\n"
     ]
    }
   ],
   "source": [
    "pca = PCA(n_components=4)\n",
    "Zred = pca.fit_transform(Xnorm)\n",
    "print(Zred.shape)\n"
   ]
  },
  {
   "cell_type": "code",
   "execution_count": 65,
   "metadata": {},
   "outputs": [
    {
     "name": "stdout",
     "output_type": "stream",
     "text": [
      "(1693, 65)\n"
     ]
    }
   ],
   "source": [
    "Xrec = pca.inverse_transform(Zred)\n",
    "print(Xrec.shape)\n"
   ]
  },
  {
   "cell_type": "code",
   "execution_count": 66,
   "metadata": {},
   "outputs": [
    {
     "name": "stdout",
     "output_type": "stream",
     "text": [
      "0.7988809461419287\n"
     ]
    }
   ],
   "source": [
    "rec_error = np.linalg.norm(Xnorm-Xrec, 'fro')/np.linalg.norm(Xnorm, 'fro')\n",
    "print(rec_error)\n"
   ]
  },
  {
   "cell_type": "code",
   "execution_count": 67,
   "metadata": {},
   "outputs": [
    {
     "name": "stdout",
     "output_type": "stream",
     "text": [
      "range(1, 66)\n"
     ]
    }
   ],
   "source": [
    "nSamples, nDims = Xnorm.shape\n",
    "\n",
    "n_comp = range(1,nDims+1)\n",
    "print(n_comp)\n"
   ]
  },
  {
   "cell_type": "code",
   "execution_count": 68,
   "metadata": {},
   "outputs": [
    {
     "name": "stdout",
     "output_type": "stream",
     "text": [
      "k=1, rec_error=0.9391282967994538\n",
      "k=2, rec_error=0.8870640108123633\n",
      "k=3, rec_error=0.8387674951597335\n",
      "k=4, rec_error=0.7988809455042846\n",
      "k=5, rec_error=0.76815650355935\n",
      "k=6, rec_error=0.7400602761802303\n",
      "k=7, rec_error=0.7131135381238115\n",
      "k=8, rec_error=0.6862118010074718\n",
      "k=9, rec_error=0.6642156912371667\n",
      "k=10, rec_error=0.6424585446470595\n",
      "k=11, rec_error=0.6203370262567586\n",
      "k=12, rec_error=0.5992799218493835\n",
      "k=13, rec_error=0.5800507758109702\n",
      "k=14, rec_error=0.5604484127737097\n",
      "k=15, rec_error=0.5408136367426541\n",
      "k=16, rec_error=0.5228948954098239\n",
      "k=17, rec_error=0.5060368258641438\n",
      "k=18, rec_error=0.4887817225089076\n",
      "k=19, rec_error=0.47217489109141314\n",
      "k=20, rec_error=0.45626462496282916\n",
      "k=21, rec_error=0.4416676254286887\n",
      "k=22, rec_error=0.427206131209625\n",
      "k=23, rec_error=0.41340601681637523\n",
      "k=24, rec_error=0.4002444568600814\n",
      "k=25, rec_error=0.38756374583201186\n",
      "k=26, rec_error=0.37532989147939566\n",
      "k=27, rec_error=0.3633096188708992\n",
      "k=28, rec_error=0.3515755871631733\n",
      "k=29, rec_error=0.33986345251589906\n",
      "k=30, rec_error=0.32879670770295577\n",
      "k=31, rec_error=0.3178675929739936\n",
      "k=32, rec_error=0.3068428711605247\n",
      "k=33, rec_error=0.29625556369636585\n",
      "k=34, rec_error=0.2853862741175465\n",
      "k=35, rec_error=0.2748090943070515\n",
      "k=36, rec_error=0.26431809969516634\n",
      "k=37, rec_error=0.2545148350982554\n",
      "k=38, rec_error=0.24452458780633274\n",
      "k=39, rec_error=0.23469969354733328\n",
      "k=40, rec_error=0.22535758883209678\n",
      "k=41, rec_error=0.21615790623076334\n",
      "k=42, rec_error=0.2070738542803698\n",
      "k=43, rec_error=0.19821447767476497\n",
      "k=44, rec_error=0.18930337614644813\n",
      "k=45, rec_error=0.18016032568588103\n",
      "k=46, rec_error=0.17142651807204146\n",
      "k=47, rec_error=0.16269122726719024\n",
      "k=48, rec_error=0.15400842867603873\n",
      "k=49, rec_error=0.1451649374858348\n",
      "k=50, rec_error=0.1366735216529772\n",
      "k=51, rec_error=0.12821390894935392\n",
      "k=52, rec_error=0.12011101820999755\n",
      "k=53, rec_error=0.11179563065747222\n",
      "k=54, rec_error=0.10315146679424153\n",
      "k=55, rec_error=0.09409542045025698\n",
      "k=56, rec_error=0.08525237244702467\n",
      "k=57, rec_error=0.07581764523130388\n",
      "k=58, rec_error=0.06569512258527851\n",
      "k=59, rec_error=0.05472942245770484\n",
      "k=60, rec_error=0.04241138126493489\n",
      "k=61, rec_error=0.027925925106683062\n",
      "k=62, rec_error=1.7030281002713998e-15\n",
      "k=63, rec_error=1.704032850470435e-15\n",
      "k=64, rec_error=1.7041182402449016e-15\n",
      "k=65, rec_error=1.7042964515595912e-15\n"
     ]
    },
    {
     "data": {
      "text/plain": [
       "Text(0, 0.5, 'Reconstruction Error')"
      ]
     },
     "execution_count": 68,
     "metadata": {},
     "output_type": "execute_result"
    },
    {
     "data": {
      "image/png": "[encoded data removed]",
      "text/plain": [
       "<Figure size 432x288 with 1 Axes>"
      ]
     },
     "metadata": {
      "needs_background": "light"
     },
     "output_type": "display_data"
    }
   ],
   "source": [
    "rec_error = np.zeros(len(n_comp)+1)\n",
    "\n",
    "for k in n_comp:\n",
    "    pca = PCA(n_components=k)\n",
    "    Zred = pca.fit_transform(Xnorm)\n",
    "    Xrec = pca.inverse_transform(Zred)\n",
    "    rec_error[k] = np.linalg.norm(Xnorm-Xrec, 'fro')/np.linalg.norm(Xnorm, 'fro')\n",
    "    print(\"k={}, rec_error={}\".format(k, rec_error[k]))\n",
    "\n",
    "rec_error = rec_error[1:] \n",
    "plt.plot(n_comp,rec_error)\n",
    "plt.xlabel('No of principal components (k)')\n",
    "plt.ylabel('Reconstruction Error')\n"
   ]
  },
  {
   "cell_type": "code",
   "execution_count": null,
   "metadata": {},
   "outputs": [],
   "source": []
  }
 ],
 "metadata": {
  "kernelspec": {
   "display_name": "Python 3",
   "language": "python",
   "name": "python3"
  },
  "language_info": {
   "codemirror_mode": {
    "name": "ipython",
    "version": 3
   },
   "file_extension": ".py",
   "mimetype": "text/x-python",
   "name": "python",
   "nbconvert_exporter": "python",
   "pygments_lexer": "ipython3",
   "version": "3.7.1"
  }
 },
 "nbformat": 4,
 "nbformat_minor": 2
}
